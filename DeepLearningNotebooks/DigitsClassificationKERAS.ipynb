{
 "cells": [
  {
   "cell_type": "markdown",
   "metadata": {
    "colab_type": "text",
    "id": "VxAlc32EoLQu"
   },
   "source": [
    "## Thank your for visiting my git repository\n",
    "# This is a modified version of Coursera Programming exercise\n",
    "# First use of Keras"
   ]
  },
  {
   "cell_type": "code",
   "execution_count": 1,
   "metadata": {
    "colab": {
     "base_uri": "https://localhost:8080/",
     "height": 306
    },
    "colab_type": "code",
    "executionInfo": {
     "elapsed": 12834,
     "status": "ok",
     "timestamp": 1542961032389,
     "user": {
      "displayName": "Grira Khaled",
      "photoUrl": "https://lh5.googleusercontent.com/-om_nZrErl6E/AAAAAAAAAAI/AAAAAAAACFA/DY-NUe8S-GE/s64/photo.jpg",
      "userId": "09844051313623864471"
     },
     "user_tz": -60
    },
    "id": "fkKt47uHpDiC",
    "outputId": "f68a4aee-cd54-4a28-aa5c-cd918a54421b"
   },
   "outputs": [
    {
     "name": "stdout",
     "output_type": "stream",
     "text": [
      "--2018-11-23 08:17:02--  https://raw.githubusercontent.com/hse-aml/intro-to-dl/master/setup_google_colab.py\n",
      "Resolving raw.githubusercontent.com (raw.githubusercontent.com)... 151.101.0.133, 151.101.64.133, 151.101.128.133, ...\n",
      "Connecting to raw.githubusercontent.com (raw.githubusercontent.com)|151.101.0.133|:443... connected.\n",
      "HTTP request sent, awaiting response... 200 OK\n",
      "Length: 3595 (3.5K) [text/plain]\n",
      "Saving to: ‘setup_google_colab.py’\n",
      "\n",
      "\r",
      "setup_google_colab.   0%[                    ]       0  --.-KB/s               \r",
      "setup_google_colab. 100%[===================>]   3.51K  --.-KB/s    in 0s      \n",
      "\n",
      "2018-11-23 08:17:02 (59.5 MB/s) - ‘setup_google_colab.py’ saved [3595/3595]\n",
      "\n",
      "**************************************************\n",
      "inception_v3_weights_tf_dim_ordering_tf_kernels_notop.h5\n",
      "**************************************************\n",
      "cifar-10-batches-py.tar.gz\n",
      "**************************************************\n",
      "mnist.npz\n"
     ]
    }
   ],
   "source": [
    "! shred -u setup_google_colab.py\n",
    "! wget https://raw.githubusercontent.com/hse-aml/intro-to-dl/master/setup_google_colab.py -O setup_google_colab.py\n",
    "import setup_google_colab\n",
    "# please, uncomment the week you're working on\n",
    "# setup_google_colab.setup_week1()\n",
    "setup_google_colab.setup_week2()\n",
    "# setup_google_colab.setup_week3()\n",
    "# setup_google_colab.setup_week4()\n",
    "# setup_google_colab.setup_week5()\n",
    "# setup_google_colab.setup_week6()\n",
    "\n",
    "# If you're using the old version of the course (check a path of notebook on Coursera, you'll see v1 or v2),\n",
    "# use setup_week2_old()."
   ]
  },
  {
   "cell_type": "code",
   "execution_count": 0,
   "metadata": {
    "colab": {},
    "colab_type": "code",
    "id": "shsrNwK4oLQz"
   },
   "outputs": [],
   "source": [
    "import sys\n",
    "sys.path.append(\"..\")\n",
    "import grading"
   ]
  },
  {
   "cell_type": "code",
   "execution_count": 43,
   "metadata": {
    "colab": {
     "base_uri": "https://localhost:8080/",
     "height": 99
    },
    "colab_type": "code",
    "executionInfo": {
     "elapsed": 26222,
     "status": "ok",
     "timestamp": 1542962174682,
     "user": {
      "displayName": "Grira Khaled",
      "photoUrl": "https://lh5.googleusercontent.com/-om_nZrErl6E/AAAAAAAAAAI/AAAAAAAACFA/DY-NUe8S-GE/s64/photo.jpg",
      "userId": "09844051313623864471"
     },
     "user_tz": -60
    },
    "id": "6OkXSwcvoLRK",
    "outputId": "e5b11d43-1e69-4d79-99b6-bef61d9ff4ca"
   },
   "outputs": [
    {
     "name": "stdout",
     "output_type": "stream",
     "text": [
      "ln: failed to create symbolic link '/root/.keras/datasets/cifar-10-batches-py.tar.gz': File exists\n",
      "ln: failed to create symbolic link '/root/.keras/datasets/mnist.npz': File exists\n",
      "ln: failed to create symbolic link '/root/.keras/models/inception_v3_weights_tf_dim_ordering_tf_kernels_notop.h5': File exists\n"
     ]
    }
   ],
   "source": [
    "# use preloaded keras datasets and models\n",
    "! mkdir -p ~/.keras/datasets\n",
    "! mkdir -p ~/.keras/models\n",
    "! ln -s $(realpath ../readonly/keras/datasets/*) ~/.keras/datasets/\n",
    "! ln -s $(realpath ../readonly/keras/models/*) ~/.keras/models/"
   ]
  },
  {
   "cell_type": "code",
   "execution_count": 0,
   "metadata": {
    "colab": {},
    "colab_type": "code",
    "id": "DzvIW6lNoLRq"
   },
   "outputs": [],
   "source": [
    "import numpy as np\n",
    "from preprocessed_mnist import load_dataset\n",
    "import keras\n",
    "X_train, y_train, X_val, y_val, X_test, y_test = load_dataset()\n",
    "y_train,y_val,y_test = map(keras.utils.np_utils.to_categorical,[y_train,y_val,y_test])"
   ]
  },
  {
   "cell_type": "code",
   "execution_count": 45,
   "metadata": {
    "colab": {
     "base_uri": "https://localhost:8080/",
     "height": 265
    },
    "colab_type": "code",
    "executionInfo": {
     "elapsed": 24781,
     "status": "ok",
     "timestamp": 1542962175643,
     "user": {
      "displayName": "Grira Khaled",
      "photoUrl": "https://lh5.googleusercontent.com/-om_nZrErl6E/AAAAAAAAAAI/AAAAAAAACFA/DY-NUe8S-GE/s64/photo.jpg",
      "userId": "09844051313623864471"
     },
     "user_tz": -60
    },
    "id": "S4bvgA4LoLR4",
    "outputId": "0d43f164-3976-4656-c3ab-5edd252f3078",
    "scrolled": true
   },
   "outputs": [
    {
     "data": {
      "image/png": "[encoded data removed]",
      "text/plain": [
       "<matplotlib.figure.Figure at 0x7fe29ac56630>"
      ]
     },
     "metadata": {
      "tags": []
     },
     "output_type": "display_data"
    }
   ],
   "source": [
    "import matplotlib.pyplot as plt\n",
    "%matplotlib inline\n",
    "plt.imshow(X_train[0]);"
   ]
  },
  {
   "cell_type": "markdown",
   "metadata": {
    "colab_type": "text",
    "id": "tdyOloXkoLSD"
   },
   "source": [
    "## Testing a few functions"
   ]
  },
  {
   "cell_type": "code",
   "execution_count": 0,
   "metadata": {
    "colab": {},
    "colab_type": "code",
    "id": "IKeIvNlAoLSE"
   },
   "outputs": [],
   "source": [
    "import tensorflow as tf\n",
    "from keras_utils import reset_tf_session\n",
    "s = reset_tf_session()"
   ]
  },
  {
   "cell_type": "code",
   "execution_count": 0,
   "metadata": {
    "colab": {},
    "colab_type": "code",
    "id": "d4JVT7hEoLSJ"
   },
   "outputs": [],
   "source": [
    "import keras\n",
    "from keras.models import Sequential\n",
    "import keras.layers as ll\n",
    "\n",
    "model = Sequential(name=\"mlp\")\n",
    "\n",
    "model.add(ll.InputLayer([28, 28]))\n",
    "\n",
    "model.add(ll.Flatten())\n",
    "\n",
    "# network body\n",
    "model.add(ll.Dense(258))\n",
    "model.add(ll.Activation('sigmoid'))\n",
    "\n",
    "model.add(ll.Dense(258))\n",
    "model.add(ll.Activation('sigmoid'))\n",
    "\n",
    "# output layer: 10 neurons for each class with softmax\n",
    "model.add(ll.Dense(10, activation='softmax'))\n",
    "\n",
    "# categorical_crossentropy is your good old crossentropy\n",
    "# but applied for one-hot-encoded vectors\n",
    "model.compile(\"adam\", \"categorical_crossentropy\", metrics=[\"accuracy\"])"
   ]
  },
  {
   "cell_type": "code",
   "execution_count": 48,
   "metadata": {
    "colab": {
     "base_uri": "https://localhost:8080/",
     "height": 374
    },
    "colab_type": "code",
    "executionInfo": {
     "elapsed": 14943,
     "status": "ok",
     "timestamp": 1542962176598,
     "user": {
      "displayName": "Grira Khaled",
      "photoUrl": "https://lh5.googleusercontent.com/-om_nZrErl6E/AAAAAAAAAAI/AAAAAAAACFA/DY-NUe8S-GE/s64/photo.jpg",
      "userId": "09844051313623864471"
     },
     "user_tz": -60
    },
    "id": "99BrqKgzoLSO",
    "outputId": "6deff242-f7c0-4cf8-e83a-61a4fdebfeaa"
   },
   "outputs": [
    {
     "name": "stdout",
     "output_type": "stream",
     "text": [
      "_________________________________________________________________\n",
      "Layer (type)                 Output Shape              Param #   \n",
      "=================================================================\n",
      "input_1 (InputLayer)         (None, 28, 28)            0         \n",
      "_________________________________________________________________\n",
      "flatten_1 (Flatten)          (None, 784)               0         \n",
      "_________________________________________________________________\n",
      "dense_1 (Dense)              (None, 258)               202530    \n",
      "_________________________________________________________________\n",
      "activation_1 (Activation)    (None, 258)               0         \n",
      "_________________________________________________________________\n",
      "dense_2 (Dense)              (None, 258)               66822     \n",
      "_________________________________________________________________\n",
      "activation_2 (Activation)    (None, 258)               0         \n",
      "_________________________________________________________________\n",
      "dense_3 (Dense)              (None, 10)                2590      \n",
      "=================================================================\n",
      "Total params: 271,942\n",
      "Trainable params: 271,942\n",
      "Non-trainable params: 0\n",
      "_________________________________________________________________\n"
     ]
    }
   ],
   "source": [
    "model.summary()"
   ]
  },
  {
   "cell_type": "markdown",
   "metadata": {
    "colab_type": "text",
    "id": "68y4tjRvoLSW"
   },
   "source": [
    "### Model interface\n",
    "\n",
    "Keras models follow __Scikit-learn__'s interface of fit/predict with some notable extensions. Let's take a tour."
   ]
  },
  {
   "cell_type": "code",
   "execution_count": 0,
   "metadata": {
    "colab": {},
    "colab_type": "code",
    "id": "CrZa2I-yoLSY"
   },
   "outputs": [],
   "source": [
    "# fit(X,y) ships with a neat automatic logging.\n",
    "#          Highly customizable under the hood.\n",
    "model.fit(X_train, y_train,\n",
    "          validation_data=(X_val, y_val), epochs=5);"
   ]
  },
  {
   "cell_type": "code",
   "execution_count": 51,
   "metadata": {
    "colab": {
     "base_uri": "https://localhost:8080/",
     "height": 136
    },
    "colab_type": "code",
    "executionInfo": {
     "elapsed": 544,
     "status": "ok",
     "timestamp": 1542962547528,
     "user": {
      "displayName": "Grira Khaled",
      "photoUrl": "https://lh5.googleusercontent.com/-om_nZrErl6E/AAAAAAAAAAI/AAAAAAAACFA/DY-NUe8S-GE/s64/photo.jpg",
      "userId": "09844051313623864471"
     },
     "user_tz": -60
    },
    "id": "rVUahR1EoLSg",
    "outputId": "8f5e120f-457c-4e03-86b7-a53e2f8a9ef5"
   },
   "outputs": [
    {
     "name": "stdout",
     "output_type": "stream",
     "text": [
      "\r",
      "2/2 [==============================] - 0s\n"
     ]
    },
    {
     "data": {
      "text/plain": [
       "array([[2.0012603e-08, 4.7980076e-05, 4.0981627e-06, 9.9978858e-01,\n",
       "        6.8738537e-08, 1.2949765e-04, 9.9416164e-09, 1.7427983e-07,\n",
       "        2.9555495e-05, 8.5534090e-08],\n",
       "       [3.2200443e-08, 6.3116363e-07, 3.1753659e-06, 9.8225952e-05,\n",
       "        1.7912532e-07, 6.6216357e-06, 3.3467791e-07, 6.3995238e-08,\n",
       "        9.9988925e-01, 1.4193803e-06]], dtype=float32)"
      ]
     },
     "execution_count": 51,
     "metadata": {
      "tags": []
     },
     "output_type": "execute_result"
    }
   ],
   "source": [
    "# estimate probabilities P(y|x)\n",
    "model.predict_proba(X_val[:2])"
   ]
  },
  {
   "cell_type": "code",
   "execution_count": 0,
   "metadata": {
    "colab": {},
    "colab_type": "code",
    "id": "fIDwkN6VoLSm"
   },
   "outputs": [],
   "source": [
    "# Save trained weights\n",
    "model.save(\"weights.h5\")"
   ]
  },
  {
   "cell_type": "code",
   "execution_count": 53,
   "metadata": {
    "colab": {
     "base_uri": "https://localhost:8080/",
     "height": 51
    },
    "colab_type": "code",
    "executionInfo": {
     "elapsed": 969,
     "status": "ok",
     "timestamp": 1542962558958,
     "user": {
      "displayName": "Grira Khaled",
      "photoUrl": "https://lh5.googleusercontent.com/-om_nZrErl6E/AAAAAAAAAAI/AAAAAAAACFA/DY-NUe8S-GE/s64/photo.jpg",
      "userId": "09844051313623864471"
     },
     "user_tz": -60
    },
    "id": "KO5PkjYUoLSr",
    "outputId": "627e77d0-5aa0-4f85-aa7f-ee3caadeac46"
   },
   "outputs": [
    {
     "name": "stdout",
     "output_type": "stream",
     "text": [
      " 9568/10000 [===========================>..] - ETA: 0s\n",
      "Loss, Accuracy =  [0.07939977536634542, 0.9758]\n"
     ]
    }
   ],
   "source": [
    "print(\"\\nLoss, Accuracy = \", model.evaluate(X_test, y_test))"
   ]
  },
  {
   "cell_type": "markdown",
   "metadata": {
    "colab_type": "text",
    "id": "85dhs_GtoLSx"
   },
   "source": [
    "We have to be careful about using a non linear activation function and having enough units and layers. And not overtraining the model"
   ]
  },
  {
   "cell_type": "code",
   "execution_count": 54,
   "metadata": {
    "colab": {
     "base_uri": "https://localhost:8080/",
     "height": 68
    },
    "colab_type": "code",
    "executionInfo": {
     "elapsed": 1116,
     "status": "ok",
     "timestamp": 1542962569227,
     "user": {
      "displayName": "Grira Khaled",
      "photoUrl": "https://lh5.googleusercontent.com/-om_nZrErl6E/AAAAAAAAAAI/AAAAAAAACFA/DY-NUe8S-GE/s64/photo.jpg",
      "userId": "09844051313623864471"
     },
     "user_tz": -60
    },
    "id": "NbEIsUiJoLSy",
    "outputId": "c25c877b-2f3a-401f-d1b6-fb0de580079a"
   },
   "outputs": [
    {
     "name": "stdout",
     "output_type": "stream",
     "text": [
      " 9536/10000 [===========================>..] - ETA: 0s\n",
      "Test accuracy: 97.58 %\n",
      "Great job!\n"
     ]
    }
   ],
   "source": [
    "# Test score...\n",
    "test_predictions = model.predict_proba(X_test).argmax(axis=-1)\n",
    "test_answers = y_test.argmax(axis=-1)\n",
    "\n",
    "test_accuracy = np.mean(test_predictions==test_answers)\n",
    "\n",
    "print(\"\\nTest accuracy: {} %\".format(test_accuracy*100))\n",
    "\n",
    "assert test_accuracy>=0.92,\"Logistic regression can do better!\"\n",
    "assert test_accuracy>=0.975,\"Your network can do better!\"\n",
    "print(\"Great job!\")"
   ]
  },
  {
   "cell_type": "markdown",
   "metadata": {
    "colab_type": "text",
    "id": "Njl5bvznoLTD"
   },
   "source": [
    "## Keras + tensorboard\n",
    "\n",
    "Remember the interactive graphs from Tensorboard one notebook ago? \n",
    "\n",
    "Thing is, Keras can use tensorboard to show you a lot of useful information about the learning progress. Just take a look!"
   ]
  },
  {
   "cell_type": "code",
   "execution_count": 58,
   "metadata": {
    "colab": {
     "base_uri": "https://localhost:8080/",
     "height": 65
    },
    "colab_type": "code",
    "executionInfo": {
     "elapsed": 2061,
     "status": "ok",
     "timestamp": 1542962641571,
     "user": {
      "displayName": "Grira Khaled",
      "photoUrl": "https://lh5.googleusercontent.com/-om_nZrErl6E/AAAAAAAAAAI/AAAAAAAACFA/DY-NUe8S-GE/s64/photo.jpg",
      "userId": "09844051313623864471"
     },
     "user_tz": -60
    },
    "id": "0VtluDoRoLTE",
    "outputId": "f83ded34-df9a-486f-a3da-dd423bf15e0a"
   },
   "outputs": [
    {
     "name": "stdout",
     "output_type": "stream",
     "text": [
      "rm: cannot remove '/tmp/tboard/**': No such file or directory\n"
     ]
    }
   ],
   "source": [
    "! rm -r /tmp/tboard/**"
   ]
  },
  {
   "cell_type": "code",
   "execution_count": 59,
   "metadata": {
    "colab": {
     "base_uri": "https://localhost:8080/",
     "height": 391
    },
    "colab_type": "code",
    "executionInfo": {
     "elapsed": 108416,
     "status": "ok",
     "timestamp": 1542962751508,
     "user": {
      "displayName": "Grira Khaled",
      "photoUrl": "https://lh5.googleusercontent.com/-om_nZrErl6E/AAAAAAAAAAI/AAAAAAAACFA/DY-NUe8S-GE/s64/photo.jpg",
      "userId": "09844051313623864471"
     },
     "user_tz": -60
    },
    "id": "GDqTjYMXoLTJ",
    "outputId": "40b77871-da95-4a9c-f5fc-f87afc9bc78e"
   },
   "outputs": [
    {
     "name": "stdout",
     "output_type": "stream",
     "text": [
      "Train on 50000 samples, validate on 10000 samples\n",
      "Epoch 1/10\n",
      "50000/50000 [==============================] - 11s - loss: 0.0389 - acc: 0.9876 - val_loss: 0.0958 - val_acc: 0.9733\n",
      "Epoch 2/10\n",
      "50000/50000 [==============================] - 10s - loss: 0.0288 - acc: 0.9907 - val_loss: 0.0848 - val_acc: 0.9767\n",
      "Epoch 3/10\n",
      "50000/50000 [==============================] - 10s - loss: 0.0230 - acc: 0.9927 - val_loss: 0.1100 - val_acc: 0.9691\n",
      "Epoch 4/10\n",
      "50000/50000 [==============================] - 10s - loss: 0.0181 - acc: 0.9946 - val_loss: 0.0766 - val_acc: 0.9808\n",
      "Epoch 5/10\n",
      "50000/50000 [==============================] - 10s - loss: 0.0137 - acc: 0.9956 - val_loss: 0.0902 - val_acc: 0.9776\n",
      "Epoch 6/10\n",
      "50000/50000 [==============================] - 10s - loss: 0.0111 - acc: 0.9964 - val_loss: 0.0924 - val_acc: 0.9757\n",
      "Epoch 7/10\n",
      "50000/50000 [==============================] - 10s - loss: 0.0081 - acc: 0.9976 - val_loss: 0.0993 - val_acc: 0.9754\n",
      "Epoch 8/10\n",
      "50000/50000 [==============================] - 10s - loss: 0.0094 - acc: 0.9970 - val_loss: 0.1069 - val_acc: 0.9749\n",
      "Epoch 9/10\n",
      "50000/50000 [==============================] - 10s - loss: 0.0076 - acc: 0.9977 - val_loss: 0.1020 - val_acc: 0.9780\n",
      "Epoch 10/10\n",
      "50000/50000 [==============================] - 10s - loss: 0.0068 - acc: 0.9979 - val_loss: 0.1046 - val_acc: 0.9782\n"
     ]
    },
    {
     "data": {
      "text/plain": [
       "<keras.callbacks.History at 0x7fe29ccb9278>"
      ]
     },
     "execution_count": 59,
     "metadata": {
      "tags": []
     },
     "output_type": "execute_result"
    }
   ],
   "source": [
    "from keras.callbacks import TensorBoard\n",
    "model.fit(X_train, y_train, validation_data=(X_val, y_val), \n",
    "          epochs=10,\n",
    "          callbacks=[TensorBoard(\"/tmp/tboard\")])"
   ]
  },
  {
   "cell_type": "markdown",
   "metadata": {
    "colab_type": "text",
    "id": "OsAPfkqSoLTN"
   },
   "source": [
    "# Tips & tricks\n",
    "\n",
    "Here are some tips on what you could do. Don't worry, to reach the passing threshold you don't need to try all the ideas listed here, feel free to stop once you reach the 0.975 accuracy mark.\n",
    "\n",
    " * __Network size__\n",
    "   * More neurons, \n",
    "   * More layers, ([docs](https://keras.io/))\n",
    "\n",
    "   * Nonlinearities in the hidden layers\n",
    "     * tanh, relu, leaky relu, etc\n",
    "   * Larger networks may take more epochs to train, so don't discard your net just because it could didn't beat the baseline in 5 epochs.\n",
    "\n",
    "\n",
    " * __Early Stopping__\n",
    "   * Training for 100 epochs regardless of anything is probably a bad idea.\n",
    "   * Some networks converge over 5 epochs, others - over 500.\n",
    "   * Way to go: stop when validation score is 10 iterations past maximum\n",
    "     \n",
    "\n",
    " * __Faster optimization__\n",
    "   * rmsprop, nesterov_momentum, adam, adagrad and so on.\n",
    "     * Converge faster and sometimes reach better optima\n",
    "     * It might make sense to tweak learning rate/momentum, other learning parameters, batch size and number of epochs\n",
    "\n",
    "\n",
    " * __Regularize__ to prevent overfitting\n",
    "   * Add some L2 weight norm to the loss function, theano will do the rest\n",
    "     * Can be done manually or via - https://keras.io/regularizers/\n",
    "   \n",
    "   \n",
    " * __Data augmemntation__ - getting 5x as large dataset for free is a great deal\n",
    "   * https://keras.io/preprocessing/image/\n",
    "   * Zoom-in+slice = move\n",
    "   * Rotate+zoom(to remove black stripes)\n",
    "   * any other perturbations\n",
    "   * Simple way to do that (if you have PIL/Image): \n",
    "     * ```from scipy.misc import imrotate,imresize```\n",
    "     * and a few slicing\n",
    "   * Stay realistic. There's usually no point in flipping dogs upside down as that is not the way you usually see them."
   ]
  }
 ],
 "metadata": {
  "colab": {
   "collapsed_sections": [],
   "name": "Copie de Keras-task.ipynb",
   "provenance": [
    {
     "file_id": "https://github.com/hse-aml/intro-to-dl/blob/master/week2/Keras-task.ipynb",
     "timestamp": 1542961004309
    }
   ],
   "version": "0.3.2"
  },
  "kernelspec": {
   "display_name": "Python 3",
   "language": "python",
   "name": "python3"
  },
  "language_info": {
   "codemirror_mode": {
    "name": "ipython",
    "version": 3
   },
   "file_extension": ".py",
   "mimetype": "text/x-python",
   "name": "python",
   "nbconvert_exporter": "python",
   "pygments_lexer": "ipython3",
   "version": "3.7.1"
  }
 },
 "nbformat": 4,
 "nbformat_minor": 1
}
