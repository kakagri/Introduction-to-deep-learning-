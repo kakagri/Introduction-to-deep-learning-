{
  "nbformat": 4,
  "nbformat_minor": 0,
  "metadata": {
    "colab": {
      "name": "WebCrawlerKhaled.ipynb",
      "version": "0.3.2",
      "provenance": [],
      "collapsed_sections": []
    },
    "kernelspec": {
      "name": "python3",
      "display_name": "Python 3"
    },
    "accelerator": "GPU"
  },
  "cells": [
    {
      "metadata": {
        "id": "qHFwQhaBitYi",
        "colab_type": "text"
      },
      "cell_type": "markdown",
      "source": [
        "#  Crawling through Gutenberg \n",
        "## **Written by Khaled GRIRA**\n",
        "The goal here is to get the links to all of Gutenberg's books. \n",
        "\n",
        "First we're going to get the links to the pages then in each and everyone of them we're going to get the link to download the book and put it in a shape that's convenient to us, with the summary the name of the author the genre etc etc. \n",
        "\n",
        "This is for a school project: ReadingMood , PACT 3.5\n"
      ]
    },
    {
      "metadata": {
        "id": "AaMPfNrRSAJM",
        "colab_type": "code",
        "colab": {}
      },
      "cell_type": "code",
      "source": [
        "from bs4 import BeautifulSoup\n",
        "import requests\n",
        "import re\n",
        "import numpy as np\n",
        "import random as rd\n"
      ],
      "execution_count": 0,
      "outputs": []
    },
    {
      "metadata": {
        "id": "r2SlWudUT_b8",
        "colab_type": "code",
        "colab": {}
      },
      "cell_type": "code",
      "source": [
        "def crawlerGutenberg(original_url):\n",
        "  linkscollected=[]\n",
        "  source_code=requests.get(original_url)\n",
        "  plain_text=source_code.text\n",
        "  soup=BeautifulSoup(plain_text)\n",
        "  for link in soup.findAll('ul'):\n",
        "    linkscollected.append(link)\n",
        "  return linkscollected  \n",
        "\n",
        "#when using ul we're not getting the names of the authors but we can get them by looking at a book. \n",
        "# This returns the list of the books by author, but we don't have the author's name yet ! "
      ],
      "execution_count": 0,
      "outputs": []
    },
    {
      "metadata": {
        "id": "Fc6sJHYtMJRI",
        "colab_type": "code",
        "colab": {}
      },
      "cell_type": "code",
      "source": [
        "def getAuthorNameAndDate(ul):\n",
        "  parent= ul.find_previous('a').find_previous('a').text\n",
        "  try:\n",
        "    author=re.findall(\"[a-zA-Z]*, [a-zA-Z]*.?,?[a-zA-Z]*\",parent)[0].replace(\",\",\"\")\n",
        "    date=re.findall(\"[0-9]*-[0-9]*\",parent)[0]\n",
        "    return (author,date)\n",
        "  except:\n",
        "    try:\n",
        "      author=re.findall(\"[a-zA-Z]*, [a-zA-Z]*.?,?[a-zA-Z]*\",parent)[0].replace(\",\",\"\")\n",
        "      return (author,\"\")\n",
        "    except:\n",
        "      try:\n",
        "        author=re.findall(\"[a-zA-Z]*\", parent)[0]\n",
        "        return (author,\"\")\n",
        "      except:\n",
        "        return (\"Has a name with accents\",\"\")\n",
        " \n",
        "      \n",
        "  "
      ],
      "execution_count": 0,
      "outputs": []
    },
    {
      "metadata": {
        "id": "Dvj_w07miPtB",
        "colab_type": "text"
      },
      "cell_type": "markdown",
      "source": [
        "Now we have all of the library of gutenberg. Every Author has his own string with every book he's written that's on Gutenberg. Now we're going to use regular expressions to make our data a little prettier and more convenient. Maybe we should make a dictionary. \n",
        "![This is how the section for an author is tipically written](https://i.imgur.com/boylU6w.png)\n",
        "\n",
        "This is how the section of an author is tipically written on Gutenberg."
      ]
    },
    {
      "metadata": {
        "id": "s9vQhaKSlqws",
        "colab_type": "text"
      },
      "cell_type": "markdown",
      "source": [
        "Most popular authors have their work translated in many langages and often there is more than one link,\n",
        "we need to extract only one English one for every piece. And not take into account any author that has none in English.\n",
        "\n",
        "![screen by Khaled](https://i.imgur.com/LWjS5VB.png)\n"
      ]
    },
    {
      "metadata": {
        "id": "2APK_BRukQUl",
        "colab_type": "code",
        "colab": {}
      },
      "cell_type": "code",
      "source": [
        "debutToGutenbergLink=\"https://www.gutenberg.org\"\n",
        "def transformFalseLinkToUsableLink(link):\n",
        "  return debutToGutenbergLink+link"
      ],
      "execution_count": 0,
      "outputs": []
    },
    {
      "metadata": {
        "id": "ldeBT_3raKLz",
        "colab_type": "code",
        "colab": {}
      },
      "cell_type": "code",
      "source": [
        "def isALinkToABook(aString):\n",
        "  if re.search('^/ebooks/',aString):\n",
        "    return True\n",
        "  else:\n",
        "    return False\n",
        "  \n",
        "def returnAllEnglish(aWholeUl):\n",
        "  author,date=getAuthorNameAndDate(aWholeUl)\n",
        "  result=(author,date,[])\n",
        "  for li in aWholeUl.find_all('li'):\n",
        "    text=li.text\n",
        "    if re.search('English',text):\n",
        "      aLink=li.find('a').get('href')\n",
        "      if (len(re.findall(\"(.*) \\(English\\)\",text))>0):\n",
        "        bookName=re.findall(\"(.*) \\(English\\)\",text)[0]\n",
        "        if isALinkToABook(aLink):\n",
        "          realLinkToBook=transformFalseLinkToUsableLink(aLink)\n",
        "          appending=(bookName,realLinkToBook)\n",
        "          result[2].append(appending)\n",
        "  return result\n",
        "    \n",
        "    "
      ],
      "execution_count": 0,
      "outputs": []
    },
    {
      "metadata": {
        "id": "sOGlXJMGw1YP",
        "colab_type": "code",
        "colab": {}
      },
      "cell_type": "code",
      "source": [
        "\n",
        "#print(returnAllEnglish(zeta[42]))\n"
      ],
      "execution_count": 0,
      "outputs": []
    },
    {
      "metadata": {
        "id": "auKaZ_4SaKHE",
        "colab_type": "code",
        "colab": {}
      },
      "cell_type": "code",
      "source": [
        "def getAllBooksRegroupedByAuthorsFromSet(set):\n",
        "  result=[]\n",
        "  j=0\n",
        "  for Ul in set:\n",
        "    result.append(returnAllEnglish(Ul))\n",
        "  return result\n",
        "  \n",
        "  "
      ],
      "execution_count": 0,
      "outputs": []
    },
    {
      "metadata": {
        "id": "nlUxw80AYAhK",
        "colab_type": "code",
        "colab": {}
      },
      "cell_type": "code",
      "source": [
        "basisLinkForGutenberg=\"https://www.gutenberg.org/browse/authors/\"\n",
        "letters=[\"a\",\"b\",\"c\",\"d\",\"e\",\"f\",\"g\",\"h\",\"i\",\"j\",\"k\",\"l\",\"m\",\"n\",\"o\",\"p\",\"q\",\"r\",\"s\",\"t\",\"u\",\"v\",\"w\",\"x\",\"y\",\"z\"]\n",
        "\n",
        "#we're going to get the HTML code for every author with strings\n",
        "allOfUls=[]\n",
        "stringOfOurHtmlRaw=[]\n",
        "\n",
        "for letter in letters:\n",
        "  link=basisLinkForGutenberg+letter\n",
        "  allUlForNamesStartingByLetter=crawlerGutenberg(link)\n",
        "  allOfUls+=allUlForNamesStartingByLetter\n",
        "  toStringOfAllUls= [str(x) for x in allUlForNamesStartingByLetter]\n",
        "  stringOfOurHtmlRaw+=toStringOfAllUls\n",
        " \n"
      ],
      "execution_count": 0,
      "outputs": []
    },
    {
      "metadata": {
        "id": "A3ULQMZVb5-b",
        "colab_type": "code",
        "colab": {}
      },
      "cell_type": "code",
      "source": [
        "ensembleOfbooksByAuthors=getAllBooksRegroupedByAuthorsFromSet(allOfUls)"
      ],
      "execution_count": 0,
      "outputs": []
    },
    {
      "metadata": {
        "id": "LeWnFXBgcrRc",
        "colab_type": "code",
        "colab": {}
      },
      "cell_type": "code",
      "source": [
        "def hasLinkToABook(set):\n",
        "  result=[]\n",
        "  for x in set:\n",
        "    if len(x[2])>0:\n",
        "      result.append(x)\n",
        "  return result"
      ],
      "execution_count": 0,
      "outputs": []
    },
    {
      "metadata": {
        "id": "K3jEvOgnc43h",
        "colab_type": "code",
        "colab": {}
      },
      "cell_type": "code",
      "source": [
        "ensembleOfValidAuthors=hasLinkToABook(ensembleOfbooksByAuthors) # this is all of the authors that have books in english with valid links on gutenberg.\n",
        "#It is an ensemble of tuples with (author, date of birth and death(when there is one), ensemble of books with titles and links) \n",
        "#now we have to create functions that can make every link we have usable for us, meaning how do I get my text from the link I do have now.\n",
        "\n"
      ],
      "execution_count": 0,
      "outputs": []
    },
    {
      "metadata": {
        "id": "Fkwn8o1xcW2p",
        "colab_type": "code",
        "colab": {}
      },
      "cell_type": "code",
      "source": [
        "print(len(ensembleOfValidAuthors))\n",
        "for k in range(3000,5000):\n",
        "  print(ensembleOfValidAuthors[k])\n"
      ],
      "execution_count": 0,
      "outputs": []
    },
    {
      "metadata": {
        "id": "D3nq4Q6RFcVM",
        "colab_type": "code",
        "colab": {}
      },
      "cell_type": "code",
      "source": [
        "def changeBasicLinkToTxtLink(link):\n",
        "  sourceCode=requests.get(link)\n",
        "  text=sourceCode.text\n",
        "  soup=BeautifulSoup(text)\n",
        "  try:\n",
        "    linkToTxtFormat=soup.find(\"a\",{\"type\":\"text/plain\"}).get(\"href\")\n",
        "    return (\"https:\"+linkToTxtFormat)\n",
        "  except:\n",
        "    try:\n",
        "      linkToTxtFormat=soup.find(\"a\",{\"type\":\"text/plain; charset=utf-8\"}).get(\"href\")\n",
        "      return (\"https:\"+linkToTxtFormat)\n",
        "    except:\n",
        "      return None\n",
        "    \n",
        "\n",
        "def getText(link):\n",
        "  soup=BeautifulSoup(requests.get(link).text)\n",
        "  return soup.find(\"p\").text"
      ],
      "execution_count": 0,
      "outputs": []
    },
    {
      "metadata": {
        "id": "xQKgcwMWKnht",
        "colab_type": "code",
        "colab": {}
      },
      "cell_type": "code",
      "source": [
        "def changeur(author):\n",
        "  zeta= author[2]\n",
        "  brut=[ (x[0],changeBasicLinkToTxtLink(x[1]) ) for x in zeta]\n",
        "  result=[author[0],author[1],brut]\n",
        "  return result"
      ],
      "execution_count": 0,
      "outputs": []
    },
    {
      "metadata": {
        "id": "L1-QivE7Mgvi",
        "colab_type": "code",
        "colab": {}
      },
      "cell_type": "code",
      "source": [
        "for k in range(100,200):\n",
        "  brut=ensembleOfValidAuthors[k]\n",
        "  print(brut)\n",
        "  print(brut[2])\n",
        "  for x in brut[2]:\n",
        "    print(x[0])\n",
        "    print(x[1])\n",
        "    print(changeBasicLinkToTxtLink(x[1]))\n"
      ],
      "execution_count": 0,
      "outputs": []
    },
    {
      "metadata": {
        "id": "Iu5r8yvTRFyu",
        "colab_type": "code",
        "colab": {}
      },
      "cell_type": "code",
      "source": [
        "print(FinalLibrary)"
      ],
      "execution_count": 0,
      "outputs": []
    },
    {
      "metadata": {
        "id": "tpwacw6yEse-",
        "colab_type": "code",
        "colab": {}
      },
      "cell_type": "code",
      "source": [
        "import sqlite3\n",
        "newDb=sqlite3.connect('TableBooks.sql')\n",
        "cursor=newDb.cursor()"
      ],
      "execution_count": 0,
      "outputs": []
    },
    {
      "metadata": {
        "id": "3JRbZ8trRJ3_",
        "colab_type": "code",
        "colab": {}
      },
      "cell_type": "code",
      "source": [
        "def unvectorOfAuthorToJustBooks(author):\n",
        "  result=[]\n",
        "  for x in author[2]:\n",
        "    result.append((author[0],author[1],x[0],x[1],0))\n",
        "  return result"
      ],
      "execution_count": 0,
      "outputs": []
    },
    {
      "metadata": {
        "id": "pVY9XFfirgq4",
        "colab_type": "code",
        "colab": {}
      },
      "cell_type": "code",
      "source": [
        ""
      ],
      "execution_count": 0,
      "outputs": []
    },
    {
      "metadata": {
        "id": "5CiUu-9-rs9E",
        "colab_type": "code",
        "colab": {}
      },
      "cell_type": "code",
      "source": [
        ""
      ],
      "execution_count": 0,
      "outputs": []
    },
    {
      "metadata": {
        "id": "2AR3a9zLRv5w",
        "colab_type": "code",
        "outputId": "ae8fc84a-0388-43fb-f6ac-5eaa5a4d686a",
        "colab": {
          "base_uri": "https://localhost:8080/",
          "height": 34
        }
      },
      "cell_type": "code",
      "source": [
        "cursor.execute('CREATE TABLE TableOfBooks (Author text, Date text, Title text, Link text, Treated int)')"
      ],
      "execution_count": 19,
      "outputs": [
        {
          "output_type": "execute_result",
          "data": {
            "text/plain": [
              "<sqlite3.Cursor at 0x7fa47846c730>"
            ]
          },
          "metadata": {
            "tags": []
          },
          "execution_count": 19
        }
      ]
    },
    {
      "metadata": {
        "id": "8WMUUrMCaPz6",
        "colab_type": "code",
        "outputId": "ff34cae3-8c4e-4307-da17-0ccc7661a616",
        "colab": {
          "base_uri": "https://localhost:8080/",
          "height": 34
        }
      },
      "cell_type": "code",
      "source": [
        "cursor.execute('DROP TABLE TableOfBooks')"
      ],
      "execution_count": 18,
      "outputs": [
        {
          "output_type": "execute_result",
          "data": {
            "text/plain": [
              "<sqlite3.Cursor at 0x7fa47846c730>"
            ]
          },
          "metadata": {
            "tags": []
          },
          "execution_count": 18
        }
      ]
    },
    {
      "metadata": {
        "id": "edtohcoqS0dl",
        "colab_type": "code",
        "colab": {}
      },
      "cell_type": "code",
      "source": [
        "def insertIntoDatabase(modifiedBook,curseur):\n",
        "  commandString=\"INSERT INTO TableOfBooks VALUES (?,?,?,?,?)\"\n",
        "  curseur.execute(commandString,modifiedBook)\n",
        "  \n",
        "  "
      ],
      "execution_count": 0,
      "outputs": []
    },
    {
      "metadata": {
        "id": "thXRZKRvT9m-",
        "colab_type": "code",
        "colab": {}
      },
      "cell_type": "code",
      "source": [
        "for author in ensembleOfValidAuthors:\n",
        "  y=unvectorOfAuthorToJustBooks(author)\n",
        "  for book in y:\n",
        "    insertIntoDatabase(book,cursor)\n",
        " \n",
        " "
      ],
      "execution_count": 0,
      "outputs": []
    },
    {
      "metadata": {
        "id": "GDtylz_zZKbp",
        "colab_type": "code",
        "colab": {}
      },
      "cell_type": "code",
      "source": [
        "from google.colab import files\n",
        "field_names=[val[0] for val in cursor.description]\n",
        "\n",
        "with open('example.txt', 'w') as f:\n",
        "  for row in cursor.execute(\"SELECT * FROM TableOfBooks\"):\n",
        "    stringAdd=\"\"\n",
        "    for k in range(5):\n",
        "      stringAdd+=field_names[k]+\"= \"+str(row[k])+\", \"\n",
        "    stringAdd+=\"\\n\"\n",
        "    f.write(stringAdd)\n",
        "    \n",
        "\n",
        "files.download('example.txt')"
      ],
      "execution_count": 0,
      "outputs": []
    },
    {
      "metadata": {
        "id": "5bpG0oc2VqHT",
        "colab_type": "code",
        "colab": {}
      },
      "cell_type": "code",
      "source": [
        ""
      ],
      "execution_count": 0,
      "outputs": []
    }
  ]
}